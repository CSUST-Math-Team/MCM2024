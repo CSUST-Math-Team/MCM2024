{
 "cells": [
  {
   "cell_type": "markdown",
   "metadata": {},
   "source": [
    "# 准备工作"
   ]
  },
  {
   "cell_type": "code",
   "execution_count": null,
   "metadata": {},
   "outputs": [],
   "source": [
    "!python -m pip install numpy\n",
    "!python -m pip install pandas\n",
    "!python -m pip install datetime\n",
    "!python -m pip install scipy\n",
    "!python -m pip install matplotlib\n",
    "!python -m pip install statsmodels"
   ]
  },
  {
   "cell_type": "code",
   "execution_count": null,
   "metadata": {},
   "outputs": [],
   "source": [
    "## 导入库\n",
    "import numpy as np\n",
    "import pandas as pd\n",
    "from datetime import datetime, timedelta# 导入必要的库\n",
    "from scipy.stats import chisquare, ks_2samp, gaussian_kde\n",
    "import matplotlib.pyplot as plt\n",
    "import statsmodels.api as sm"
   ]
  },
  {
   "cell_type": "code",
   "execution_count": null,
   "metadata": {},
   "outputs": [],
   "source": [
    "list_match = [\"2023-wimbledon-1301\",\"2023-wimbledon-1302\",\"2023-wimbledon-1303\",\"2023-wimbledon-1304\",\n",
    "              \"2023-wimbledon-1305\",\"2023-wimbledon-1306\",\"2023-wimbledon-1307\",\"2023-wimbledon-1308\",\n",
    "              \"2023-wimbledon-1309\",\"2023-wimbledon-1310\",\"2023-wimbledon-1311\",\"2023-wimbledon-1312\",\n",
    "             \"2023-wimbledon-1313\",\"2023-wimbledon-1314\",\"2023-wimbledon-1315\",\"2023-wimbledon-1401\",\n",
    "             \"2023-wimbledon-1402\",\"2023-wimbledon-1403\",\"2023-wimbledon-1404\",\"2023-wimbledon-1405\",\n",
    "             \"2023-wimbledon-1406\",\"2023-wimbledon-1407\",\"2023-wimbledon-1408\",\"2023-wimbledon-1409\",\n",
    "             \"2023-wimbledon-1501\",\"2023-wimbledon-1502\",\"2023-wimbledon-1503\",\"2023-wimbledon-1504\",\n",
    "             \"2023-wimbledon-1601\",\"2023-wimbledon-1602\",\"2023-wimbledon-1701\"]"
   ]
  },
  {
   "cell_type": "code",
   "execution_count": null,
   "metadata": {},
   "outputs": [],
   "source": [
    "list_match =[\"2023-wimbledon-1314\"]"
   ]
  },
  {
   "cell_type": "markdown",
   "metadata": {},
   "source": [
    "# 问题一"
   ]
  },
  {
   "cell_type": "markdown",
   "metadata": {},
   "source": [
    "### 数据处理"
   ]
  },
  {
   "cell_type": "markdown",
   "metadata": {},
   "source": [
    "### TOPSIS模型建立"
   ]
  },
  {
   "cell_type": "code",
   "execution_count": null,
   "metadata": {},
   "outputs": [],
   "source": [
    "## TOPSIS代码"
   ]
  },
  {
   "cell_type": "markdown",
   "metadata": {},
   "source": [
    "### 数据可视化"
   ]
  },
  {
   "cell_type": "code",
   "execution_count": null,
   "metadata": {},
   "outputs": [],
   "source": [
    "# 打开excel文件\n",
    "excel_file_path = \".\\第一问\\TOPSIS.xlsx\"\n",
    "# 读取Excel文件\n",
    "df = pd.read_excel(excel_file_path)\n",
    "\n",
    "# 预览数据\n",
    "# 统计摘要信息\n",
    "print(df.columns)\n"
   ]
  },
  {
   "cell_type": "code",
   "execution_count": null,
   "metadata": {},
   "outputs": [],
   "source": [
    "# 制作图表\n",
    "\n",
    "# # 获取该列的所有不重复的数据并进行统计\n",
    "# unique_values_count = df['match_id'].value_counts()\n",
    "# # 输出结果\n",
    "# print(unique_values_count)\n",
    "\n",
    "def draw(df,match_id):\n",
    "    player1=[]\n",
    "    player2=[]\n",
    "    # 获取当前比赛数据\n",
    "    df_aim = df[df[\"match_id\"] == match_id]\n",
    "    topsis_socre_list=list(df_aim[\"TOPSIS_humdred marks\"].values) #'rate_score'/ 'p1_points_won'\n",
    "    # topsis_socre_list=list(df_aim['rate_score'].values) #'rate_score'/ 'p1_points_won'\n",
    "    # topsis_socre_list=list(df_aim['p1_points_won'].values) #'rate_score'/ 'p1_points_won'\n",
    "    \n",
    "    players_name_list=list(df_aim[\"player1\"].values)\n",
    "    players= list(dict(df_aim['player1'].value_counts()).keys())\n",
    "    for i in range(0,len(topsis_socre_list)):\n",
    "        if players_name_list[i] == players[0] :\n",
    "            player1.append(topsis_socre_list[i])\n",
    "        elif players_name_list[i] == players[1] :\n",
    "            player2.append(topsis_socre_list[i])\n",
    "        else:\n",
    "            print('error')\n",
    "                \n",
    "    # 找到最大的长度\n",
    "    if len(player1) >= len(player2) :\n",
    "        length=len(player1)\n",
    "        length_name=players[0]\n",
    "    else :\n",
    "        length=len(player2)\n",
    "        length_name=players[1]\n",
    "    # length = max(len(player1), len(player2))\n",
    "\n",
    "    # 使用numpy.pad来保证y1和y2的长度相同\n",
    "    player1_padded = np.pad(player1, (0, length - len(player1)), constant_values=np.nan)\n",
    "    player2_padded = np.pad(player2, (0, length - len(player2)), constant_values=np.nan)\n",
    "    # print(len(player1_padded),len(player2_padded),len(range(0, length + 1)))\n",
    "\n",
    "    # 创建DataFrame\n",
    "    data = {'x': range(1, length + 1), 'player1': player1_padded, 'player2': player2_padded}\n",
    "    dat = pd.DataFrame(data)\n",
    "\n",
    "    # 设置颜色和线型\n",
    "    colors = ['red', 'blue']\n",
    "    linestyles = ['-', '-',]\n",
    "    \n",
    "    # 绘制折线图\n",
    "    plt.figure(figsize=(8, 6))  # 设置图形大小\n",
    "    for i, column in enumerate(['player1', 'player2']):\n",
    "        plt.plot(dat['x'], dat[column], label=column, color=colors[i], linestyle=linestyles[i])\n",
    "\n",
    "    # 添加图例\n",
    "    plt.legend(loc='lower left', labels=[players[0], players[1]], title=f'{players[0]} VS {players[1]}', frameon=False, facecolor='lightgray',bbox_to_anchor=(0.02, 0.15))\n",
    "\n",
    "    # 添加标签和标题\n",
    "    plt.xlabel('Number')\n",
    "    plt.ylabel('TOPSIS Score')\n",
    "    plt.title(f'{match_id} Contestant Performance')\n",
    "    \n",
    "    try:\n",
    "        plot(df_aim,dat,length_name,players)\n",
    "    except:\n",
    "        pass\n",
    "\n",
    "    # 显示图形\n",
    "    plt.grid(True)\n",
    "    plt.show()\n"
   ]
  },
  {
   "cell_type": "code",
   "execution_count": null,
   "metadata": {},
   "outputs": [],
   "source": [
    "#绘制盘/局直方图\n",
    "def plot(df_aim,dat,length_name,players):\n",
    "    set_list=[]\n",
    "    game_list=[]\n",
    "    # 获取当前比赛数据\n",
    "    set_no=list(df_aim['set_no'].values*10) #'set_no', 'game_no'\n",
    "    game_no=list(df_aim['game_no'].values) #'set_no', 'game_no'\n",
    "    \n",
    "    players_name_list=list(df_aim[\"player1\"].values)\n",
    "\n",
    "    for i in range(0,len(set_no)):\n",
    "        if players_name_list[i] == length_name :\n",
    "            set_list.append(set_no[i])\n",
    "            game_list.append(game_no[i])\n",
    "\n",
    "    # player1_padded = np.pad(player1, (0, length - len(player1)), constant_values=np.nan)\n",
    "    data = {'x': range(1, len(set_list) + 1), 'set': set_list, 'game': game_list}\n",
    "    dat = pd.DataFrame(data)\n",
    "\n",
    "    colors = ['lightgray', 'gray']\n",
    "    # 绘制直方图\n",
    "    for i, column in enumerate(['set', 'game']):\n",
    "        plt.bar(dat['x'], dat[column], label=column, color=colors[i],  alpha=0.5, align='center')\n",
    "        \n",
    "    # 添加图例\n",
    "    plt.legend(loc='lower left',labels=[players[0], players[1],'Set','Game'],  title=f'{players[0]} VS {players[1]}',frameon=False,bbox_to_anchor=(0.02, 0.15))\n",
    "\n",
    "\n",
    "\n"
   ]
  },
  {
   "cell_type": "code",
   "execution_count": null,
   "metadata": {},
   "outputs": [],
   "source": [
    "# 遍历比赛列表\n",
    "for j in list_match:\n",
    "    match_id=j\n",
    "    draw(df,match_id)"
   ]
  },
  {
   "cell_type": "markdown",
   "metadata": {},
   "source": [
    "# 问题二"
   ]
  },
  {
   "cell_type": "markdown",
   "metadata": {},
   "source": [
    "### 随机性检验"
   ]
  },
  {
   "cell_type": "code",
   "execution_count": null,
   "metadata": {},
   "outputs": [],
   "source": [
    "# 获取观测数据列\n",
    "observed_data = df['runs_won'] #runs_won  get_point_speed.1\n",
    "\n",
    "# 卡方检验\n",
    "# 使用实际数据的核密度估计来生成期望数据，避免了零值的问题\n",
    "kde = gaussian_kde(observed_data)\n",
    "expected_data = kde.resample(size=len(observed_data))[0]\n",
    "\n",
    "# 归一化期望数据，使其和与观测数据的和相等\n",
    "expected_data = expected_data * (observed_data.sum() / expected_data.sum())\n",
    "\n",
    "# 进行卡方检验\n",
    "chi2_stat, p_value = chisquare(observed_data, expected_data)\n",
    "# 打印卡方统计量和p值\n",
    "print(f\"Runs_of_Won \\nChi-squared Statistic: {chi2_stat}, p-value: {p_value}\")\n",
    "\n",
    "# Kolmogorov-Smirnov检验\n",
    "# 生成与观测数据大小相同的随机正态分布数据\n",
    "expected_data_ks = np.random.normal(size=len(observed_data))\n",
    "# 进行Kolmogorov-Smirnov检验\n",
    "ks_stat, ks_p_value = ks_2samp(observed_data, expected_data_ks)\n",
    "# 打印KS统计量和p值\n",
    "print(f\"KS Statistic: {ks_stat}, p-value: {ks_p_value}\")\n",
    "\n",
    "# 绘制自相关图\n",
    "sm.graphics.tsa.plot_acf(observed_data, lags=20)\n",
    "# 设置图标题\n",
    "plt.title('Runs of Won Autocorrelation Plot')\n",
    "# 展示图形\n",
    "plt.show()\n",
    "\n"
   ]
  },
  {
   "cell_type": "code",
   "execution_count": null,
   "metadata": {},
   "outputs": [],
   "source": [
    "# 获取观测数据列\n",
    "observed_data = df['get_point_speed.1'] #runs_won  get_point_speed.1\n",
    "df['get_point_speed.1'].fillna(method='bfill', inplace=True)  # 使用后一个值填充\n",
    "\n",
    "# 卡方检验\n",
    "# 生成与观测数据大小相同的随机正态分布数据\n",
    "# 使用实际数据的核密度估计来生成期望数据，避免了零值的问题\n",
    "kde = gaussian_kde(observed_data)\n",
    "expected_data = kde.resample(size=len(observed_data))[0]\n",
    "\n",
    "# 归一化期望数据，使其和与观测数据的和相等\n",
    "expected_data = expected_data * (observed_data.sum() / expected_data.sum())\n",
    "# 进行卡方检验\n",
    "chi2_stat, p_value = chisquare(observed_data, expected_data)\n",
    "# 打印卡方统计量和p值\n",
    "print(f\"Get Point Speed \\nChi-squared Statistic: {chi2_stat}, p-value: {p_value}\")\n",
    "\n",
    "# Kolmogorov-Smirnov检验\n",
    "# 生成与观测数据大小相同的随机正态分布数据\n",
    "expected_data_ks = np.random.normal(size=len(observed_data))\n",
    "# 进行Kolmogorov-Smirnov检验\n",
    "ks_stat, ks_p_value = ks_2samp(observed_data, expected_data_ks)\n",
    "# 打印KS统计量和p值\n",
    "print(f\"KS Statistic: {ks_stat}, p-value: {ks_p_value}\")\n",
    "\n",
    "# 绘制自相关图\n",
    "sm.graphics.tsa.plot_acf(observed_data, lags=20)\n",
    "# 设置图标题\n",
    "plt.title('Get Point Speed Autocorrelation Plot')\n",
    "# 展示图形\n",
    "plt.show()"
   ]
  },
  {
   "cell_type": "markdown",
   "metadata": {},
   "source": [
    "### 画图"
   ]
  },
  {
   "cell_type": "code",
   "execution_count": null,
   "metadata": {},
   "outputs": [],
   "source": [
    "def draw(df, match_id):\n",
    "    speed = []\n",
    "    runs_won = []\n",
    "    marks = []\n",
    "\n",
    "    # 获取当前比赛数据\n",
    "    df_aim = df[df[\"match_id\"] == match_id]\n",
    "    topsis_score_list = list(df_aim[\"mark_wave\"].values)\n",
    "    speed_list = list(df_aim['get_point_speed.1'].values*100)\n",
    "    runs_won_list = list(df_aim['runs_won'].values*10)\n",
    "\n",
    "    players_name_list = list(df_aim[\"player1\"].values)\n",
    "    players = list(dict(df_aim['player1'].value_counts()).keys())\n",
    "    \n",
    "    for i in range(0, len(speed_list)):\n",
    "        if players_name_list[i] == players[0]:\n",
    "            speed.append(speed_list[i])\n",
    "            runs_won.append(runs_won_list[i])\n",
    "            marks.append(topsis_score_list[i])\n",
    "        elif players_name_list[i] == players[1]:\n",
    "            continue\n",
    "        else:\n",
    "            print('error')\n",
    "\n",
    "    # 找到最大的长度\n",
    "    length = max(len(speed), len(runs_won), len(marks))\n",
    "\n",
    "    # 使用列表推导式来保证y1和y2的长度相同\n",
    "    speed_padded = speed + [np.nan] * (length - len(speed))\n",
    "    runs_won_padded = runs_won + [np.nan] * (length - len(runs_won))\n",
    "    marks_padded = marks + [np.nan] * (length - len(marks))\n",
    "\n",
    "    # 创建DataFrame\n",
    "    data = {'x': range(1, length + 1), 'speed': speed_padded, 'runs_won': runs_won_padded, 'marks': marks_padded}\n",
    "    dat = pd.DataFrame(data)\n",
    "\n",
    "    # 设置颜色和线型\n",
    "    colors = ['green']\n",
    "    linestyles = ['--']\n",
    "\n",
    "    # 绘制折线图\n",
    "    plt.figure(figsize=(8, 6))  # 设置图形大小\n",
    "    for i, column in enumerate(['marks']):\n",
    "        plt.plot(dat['x'], dat[column], label=column, color=colors[i], linestyle=linestyles[i])\n",
    "\n",
    "    # 绘制散点图\n",
    "    plt.scatter(dat['x'], dat['speed'], label='speed', color='red',s=dat['speed']*2)\n",
    "    plt.scatter(dat['x'], dat['runs_won'], label='runs_won', color='blue',s=dat['speed']*2)\n",
    "\n",
    "    # 添加图例\n",
    "    plt.legend()\n",
    "\n",
    "    # 添加标签和标题\n",
    "    plt.xlabel('Number')\n",
    "    plt.ylabel('Momentum')\n",
    "    plt.title(f'{match_id} Contestant Performance')\n",
    "\n",
    "    # 显示图形\n",
    "    plt.grid(True)\n",
    "    plt.show()\n"
   ]
  },
  {
   "cell_type": "code",
   "execution_count": null,
   "metadata": {},
   "outputs": [],
   "source": [
    "# 遍历比赛列表\n",
    "for j in list_match:\n",
    "    match_id=j\n",
    "    draw(df,match_id)"
   ]
  },
  {
   "cell_type": "markdown",
   "metadata": {},
   "source": [
    "# 问题三"
   ]
  },
  {
   "cell_type": "markdown",
   "metadata": {},
   "source": [
    "### 因子分析"
   ]
  },
  {
   "cell_type": "markdown",
   "metadata": {},
   "source": [
    "### 机器学习模型"
   ]
  },
  {
   "cell_type": "code",
   "execution_count": null,
   "metadata": {},
   "outputs": [],
   "source": [
    "import numpy\n",
    "import pandas\n",
    "from spsspro.algorithm import supervised_learning\n",
    "#生成案例数据\n",
    "data_x = pandas.DataFrame({\n",
    "    \"A\": numpy.random.random(size=100),\n",
    "    \"B\": numpy.random.random(size=100)\n",
    "})\n",
    "data_y = pandas.Series(data=numpy.random.choice([1, 2], size=100), name=\"C\")\n",
    "#XGBoost回归，输入参数详细可以光标放置函数括号内按shift+tab查看，输出结果参考spsspro模板分析报告\n",
    "result = supervised_learning.xgboost_regression(data_x=data_x, data_y=data_y)\n",
    "print(result)"
   ]
  },
  {
   "cell_type": "markdown",
   "metadata": {},
   "source": [
    "### 绘图可视化"
   ]
  },
  {
   "cell_type": "code",
   "execution_count": null,
   "metadata": {},
   "outputs": [],
   "source": [
    "\n",
    "def draw(df, match_id,value_dict,num):\n",
    "    mark_wave = []\n",
    "    mark_wave_predict = []\n",
    "\n",
    "    # 获取当前比赛数据\n",
    "    df_aim = df[df[\"match_id\"] == match_id]\n",
    "    mark_wave_list = list(df_aim[\"mark_wave\"].values)\n",
    "    mark_wave_predict_list = list(df_aim['预测结果_Y'].values)\n",
    "\n",
    "    players_name_list = list(df_aim[\"player1\"].values)\n",
    "    players = list(dict(df_aim['player1'].value_counts()).keys())\n",
    "    \n",
    "    for i in range(0, len(mark_wave_list)):\n",
    "        \n",
    "        if players_name_list[i] == players[0]:\n",
    "            mark_wave.append(mark_wave_list[i])\n",
    "            mark_wave_predict.append(mark_wave_predict_list[i])\n",
    "            length_name=players[0]\n",
    "        elif players_name_list[i] == players[1]:\n",
    "            continue\n",
    "        else:\n",
    "            print('error')\n",
    "\n",
    "    # # 找到最大的长度\n",
    "    # length = max(len(speed), len(runs_won), len(marks))\n",
    "\n",
    "    # # 使用列表推导式来保证y1和y2的长度相同\n",
    "    # speed_padded = speed + [np.nan] * (length - len(speed))\n",
    "    # runs_won_padded = runs_won + [np.nan] * (length - len(runs_won))\n",
    "    # marks_padded = marks + [np.nan] * (length - len(marks))\n",
    "    # print(len(range(1, len(mark_wave) + 1)),len(mark_wave),len(mark_wave_predict))\n",
    "    # 创建DataFrame\n",
    "    data = {'x': range(1, len(mark_wave) + 1), 'mark_wave': mark_wave, 'mark_wave_predict': mark_wave_predict}\n",
    "    dat = pd.DataFrame(data)\n",
    "\n",
    "    # 设置颜色和线型\n",
    "    colors = ['green', 'purple']\n",
    "    linestyles = ['-', '-',]\n",
    "    \n",
    "    # 绘制折线图\n",
    "    plt.figure(figsize=(8, 6))  # 设置图形大小\n",
    "    # for i, column in enumerate(['mark_wave', 'mark_wave_predict']):\n",
    "    #     plt.plot(dat['x'], dat[column], label=column, color=colors[i], linestyle=linestyles[i])\n",
    "    plt.plot(dat['x'], dat['mark_wave_predict'], label='mark_wave_predict', color=colors[1], linestyle=linestyles[1])\n",
    "\n",
    "\n",
    "    # 添加标签和标题\n",
    "    plt.xlabel('Serial number')\n",
    "    plt.ylabel('Momentum')\n",
    "    plt.title(f'{match_id} Contestant Performance')\n",
    "    \n",
    "    try:\n",
    "        if num == -1 :\n",
    "            plot_bar(df_aim,dat,length_name,players,value_dict)\n",
    "        elif num == -2 :\n",
    "            plt.plot(dat['x'], dat['mark_wave'], label='mark_wave', color=colors[0], linestyle=linestyles[0])\n",
    "            plt.plot(dat['x'], dat['mark_wave_predict'], color=colors[1], linestyle=linestyles[1])\n",
    "        else:\n",
    "            plot_scatter(df_aim,dat,length_name,players,value_dict)\n",
    "        \n",
    "    except:\n",
    "        pass\n",
    "    # 添加图例\n",
    "    plt.legend()\n",
    "    \n",
    "    # 显示图形\n",
    "    plt.grid(True)\n",
    "    plt.show()\n"
   ]
  },
  {
   "cell_type": "code",
   "execution_count": null,
   "metadata": {},
   "outputs": [],
   "source": [
    "#绘制直方图图\n",
    "def plot_bar(df_aim,dat,length_name,players,value_dict):\n",
    "    set_list=[]\n",
    "    game_list=[]\n",
    "    # 获取当前比赛数据\n",
    "    set_no=list(df_aim['set_no'].values*10) #'set_no', 'game_no'\n",
    "    game_no=list(df_aim['game_no'].values) #'set_no', 'game_no'\n",
    "    \n",
    "    players_name_list=list(df_aim[\"player1\"].values)\n",
    "\n",
    "    for i in range(0,len(set_no)):\n",
    "        if players_name_list[i] == length_name :\n",
    "            set_list.append(set_no[i])\n",
    "            game_list.append(game_no[i])\n",
    "\n",
    "    # player1_padded = np.pad(player1, (0, length - len(player1)), constant_values=np.nan)\n",
    "    data = {'x': range(1, len(set_list) + 1), 'set': set_list, 'game': game_list}\n",
    "    dat = pd.DataFrame(data)\n",
    "\n",
    "    colors = ['lightgray', 'gray']\n",
    "    # 绘制直方图\n",
    "    for i, column in enumerate(['set', 'game']):\n",
    "        plt.bar(dat['x'], dat[column], label=column, color=colors[i],  alpha=0.5, align='center')\n",
    "        \n",
    "    # 添加图例\n",
    "    plt.legend()\n",
    "\n",
    "\n",
    "\n"
   ]
  },
  {
   "cell_type": "code",
   "execution_count": null,
   "metadata": {},
   "outputs": [],
   "source": [
    "#绘制点图\n",
    "def plot_scatter(df_aim,dat,length_name,players,value_dict):\n",
    "    list1=[]\n",
    "    list2=[]\n",
    "    list3=[]\n",
    "    data_value=[]\n",
    "    # 遍历所有键值对\n",
    "    for key, value in value_dict.items():\n",
    "        data_value.append(key)\n",
    "        data_value.append(list(df_aim[key].values*value))\n",
    "\n",
    "    players_name_list=list(df_aim[\"player1\"].values)\n",
    "\n",
    "    for i in range(0,len(data_value[1])):\n",
    "        if players_name_list[i] == length_name :\n",
    "            list1.append(data_value[1][i])\n",
    "            list2.append(data_value[3][i])\n",
    "            list3.append(data_value[5][i])\n",
    "\n",
    "    # player1_padded = np.pad(player1, (0, length - len(player1)), constant_values=np.nan)\n",
    "    data = {'x': range(1, len(list1) + 1), data_value[0]: list1, data_value[2]: list2,data_value[4]:list3}\n",
    "    dat = pd.DataFrame(data)\n",
    "\n",
    "    colors = ['orange', 'cyan', 'brown']\n",
    "    # 绘制直方图\n",
    "    for i, column in enumerate([data_value[0],data_value[2],data_value[4]]):\n",
    "        # plt.bar(dat['x'], dat[column], label=column, color=colors[i],  alpha=0.5, align='center')\n",
    "        plt.scatter(dat['x'], dat[column], label=column, color=colors[i], s=10)\n",
    "    # 添加图例\n",
    "    # plt.legend(loc='lower left',labels=[players[0], players[1],'Set','Game'],  title=f'{players[0]} VS {players[1]}',frameon=False,bbox_to_anchor=(0.02, 0.15))\n",
    "    plt.legend()\n",
    "\n",
    "\n"
   ]
  },
  {
   "cell_type": "code",
   "execution_count": null,
   "metadata": {},
   "outputs": [],
   "source": [
    "value_dict_list=[{ 'rate_score_past':10, 'rate_of_point':10},\n",
    "                 {'p1_break_pt':10, 'p1_break_pt_won':10,'p1_break_pt_missed':10},\n",
    "                 {'server':10, 'p1_ace':10, 'p1_net_pt':10},\n",
    "                 { 'is_tie_breakers':10, 'runs_won_past':10, 'runs_of_fails':10}]"
   ]
  },
  {
   "cell_type": "code",
   "execution_count": null,
   "metadata": {},
   "outputs": [],
   "source": [
    "# 打开excel文件\n",
    "excel_file_path = \"./第三问/XGBoost测试数据预测评估结果.xlsx\"\n",
    "# 读取Excel文件\n",
    "df = pd.read_excel(excel_file_path)\n",
    "\n",
    "# 预览数据\n",
    "# 统计摘要信息\n",
    "print(df.columns)\n"
   ]
  },
  {
   "cell_type": "code",
   "execution_count": null,
   "metadata": {},
   "outputs": [],
   "source": [
    "# 遍历比赛列表\n",
    "for j in list_match:\n",
    "    match_id=j\n",
    "    for i in range(-2,len(value_dict_list)):\n",
    "        try:\n",
    "            draw(df,match_id,value_dict_list[i],i)\n",
    "        except:\n",
    "            draw(df,match_id,value_dict_list[0],i)"
   ]
  },
  {
   "cell_type": "markdown",
   "metadata": {},
   "source": [
    "# 第四问"
   ]
  },
  {
   "cell_type": "markdown",
   "metadata": {},
   "source": []
  }
 ],
 "metadata": {
  "kernelspec": {
   "display_name": "Python 3",
   "language": "python",
   "name": "python3"
  },
  "language_info": {
   "codemirror_mode": {
    "name": "ipython",
    "version": 3
   },
   "file_extension": ".py",
   "mimetype": "text/x-python",
   "name": "python",
   "nbconvert_exporter": "python",
   "pygments_lexer": "ipython3",
   "version": "3.11.2"
  }
 },
 "nbformat": 4,
 "nbformat_minor": 2
}
