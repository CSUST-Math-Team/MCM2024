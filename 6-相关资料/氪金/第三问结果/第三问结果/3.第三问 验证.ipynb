{
 "cells": [
  {
   "cell_type": "code",
   "execution_count": 6,
   "id": "10c6b0c0",
   "metadata": {},
   "outputs": [
    {
     "name": "stdout",
     "output_type": "stream",
     "text": [
      "/c/Users/34603/Documents/GitHub/MCM2024/6-相关资料/氪金/第三问结果/第三问结果\n"
     ]
    }
   ],
   "source": [
    "import matplotlib.pyplot as plt\n",
    "import numpy as np\n",
    "import pandas as pd\n",
    "from datetime import datetime, timedelta\n",
    "# import torch\n",
    "!pwd"
   ]
  },
  {
   "cell_type": "code",
   "execution_count": 8,
   "id": "cd51eb08",
   "metadata": {},
   "outputs": [],
   "source": [
    "src_data = pd.read_excel(\"./Wimbledon_featured_matches.xlsx\")"
   ]
  },
  {
   "cell_type": "code",
   "execution_count": 10,
   "id": "10bf333f",
   "metadata": {},
   "outputs": [],
   "source": [
    "import numpy as np\n",
    "\n",
    "# 计算跑动差距\n",
    "def count_run(pd_frame):\n",
    "    run_arvg = 13.94  # 平均跑动差距\n",
    "    d_now_run = pd_frame[\"p1_distance_run\"] - pd_frame[\"p2_distance_run\"]  # 当前跑动差距\n",
    "    if np.abs(d_now_run) > run_arvg:  # 如果当前跑动差距绝对值大于平均值\n",
    "        return -d_now_run / max(pd_frame[\"p1_distance_run\"], pd_frame[\"p2_distance_run\"]) * 0.2  # 返回归一化后的结果\n",
    "    return -(pd_frame[\"p1_distance_run\"] - pd_frame[\"p2_distance_run\"]) / run_arvg * 0.2  # 返回归一化后的结果\n",
    "\n",
    "# 计算失误\n",
    "def count_fault(pd_frame):\n",
    "    ans = 0\n",
    "    if pd_frame[\"p1_double_fault\"] == 1 or pd_frame[\"p1_unf_err\"] == 1:  # 如果p1双误或非强制性失误\n",
    "        ans = -1\n",
    "    elif pd_frame[\"p2_double_fault\"] == 1 or pd_frame[\"p2_unf_err\"] == 1:  # 如果p2双误或非强制性失误\n",
    "        ans = 1\n",
    "    return ans * 0.2  # 返回归一化后的结果\n",
    "\n",
    "# 计算发球者\n",
    "def count_sev(pd_frame):\n",
    "    ans = 0\n",
    "    if pd_frame[\"server\"] == 1:  # 如果p1为发球者\n",
    "        ans = 1\n",
    "    elif pd_frame[\"server\"] == 2:  # 如果p2为发球者\n",
    "        ans = -1\n",
    "    return ans * 0.2  # 返回归一化后的结果\n",
    "\n",
    "# 计算胜负\n",
    "def count_win(pd_frame):\n",
    "    ans = 0\n",
    "    if pd_frame[\"p1_points_won\"] > pd_frame[\"p2_points_won\"]:  # 如果p1获胜\n",
    "        ans = 1\n",
    "    elif pd_frame[\"p1_points_won\"] < pd_frame[\"p2_points_won\"]:  # 如果p2获胜\n",
    "        ans = -1\n",
    "    return ans  # 返回结果\n",
    "\n",
    "# 计算连续三局得分情况\n",
    "def count_three_numbers(arr):\n",
    "    one_arr = np.zeros(len(arr))  # 初始化长度与输入数组相同的全零数组\n",
    "    for i in range(len(arr) - 4):\n",
    "        sub_array = arr[i:i + 5]  # 获取连续五局的得分情况\n",
    "        if sub_array.count(1) == 4:  # 如果连续四局p1得分\n",
    "            one_arr[i + 4] = 1\n",
    "        elif sub_array.count(2) == 4:  # 如果连续四局p2得分\n",
    "            one_arr[i + 4] = -1\n",
    "    return one_arr  # 返回结果数组\n",
    "\n",
    "# 滑动窗口平均值计算\n",
    "def sliding_window_average(arr):\n",
    "    averages = []  # 初始化存储平均值的列表\n",
    "    for i in range(len(arr) - 2):\n",
    "        window_sum = arr[i] + arr[i + 1] + arr[i + 2]  # 计算窗口内三局得分总和\n",
    "        window_average = window_sum / 3.0  # 计算窗口内三局得分的平均值\n",
    "        averages.append(window_average)  # 将平均值添加到列表中\n",
    "    averages.append(arr[-2])  # 添加倒数第二个元素到新列表中\n",
    "    averages.append(arr[-1])  # 添加最后一个元素到新列表中\n",
    "    return averages  # 返回滑动窗口平均值列表\n"
   ]
  },
  {
   "cell_type": "code",
   "execution_count": 4,
   "id": "cf376684",
   "metadata": {},
   "outputs": [],
   "source": [
    "list_match = [\"2023-wimbledon-1301\",\"2023-wimbledon-1302\",\"2023-wimbledon-1303\",\"2023-wimbledon-1304\",\n",
    "              \"2023-wimbledon-1305\",\"2023-wimbledon-1306\",\"2023-wimbledon-1307\",\"2023-wimbledon-1308\",\n",
    "              \"2023-wimbledon-1309\",\"2023-wimbledon-1310\",\"2023-wimbledon-1311\",\"2023-wimbledon-1312\",\n",
    "             \"2023-wimbledon-1313\",\"2023-wimbledon-1314\",\"2023-wimbledon-1315\",\"2023-wimbledon-1401\",\n",
    "             \"2023-wimbledon-1402\",\"2023-wimbledon-1403\",\"2023-wimbledon-1404\",\"2023-wimbledon-1405\",\n",
    "             \"2023-wimbledon-1406\",\"2023-wimbledon-1407\",\"2023-wimbledon-1408\",\"2023-wimbledon-1409\",\n",
    "             \"2023-wimbledon-1501\",\"2023-wimbledon-1502\",\"2023-wimbledon-1503\",\"2023-wimbledon-1504\",\n",
    "             \"2023-wimbledon-1601\",\"2023-wimbledon-1602\",\"2023-wimbledon-1701\"]"
   ]
  },
  {
   "cell_type": "code",
   "execution_count": 11,
   "id": "1261c751",
   "metadata": {},
   "outputs": [],
   "source": [
    "list_match =[\"2023-wimbledon-1303\"]"
   ]
  },
  {
   "cell_type": "code",
   "execution_count": 12,
   "id": "64492fa1",
   "metadata": {},
   "outputs": [
    {
     "name": "stdout",
     "output_type": "stream",
     "text": [
      "2023-wimbledon-1303 -16.45 2\n"
     ]
    }
   ],
   "source": [
    "# 初始化空列表\n",
    "all_list = []         # 存储每场比赛的指标\n",
    "all_list_label = []   # 存储每场比赛的标签\n",
    "\n",
    "# 遍历比赛列表\n",
    "for j in list_match:\n",
    "    # 获取当前比赛数据\n",
    "    n_data_aim = src_data[src_data[\"match_id\"] == j]\n",
    "\n",
    "    # 计算连续三局得分情况并加权\n",
    "    AB_array = count_three_numbers(list(n_data_aim[\"point_victor\"].values)) * 0.4\n",
    "\n",
    "    # 初始化其他指标的数组\n",
    "    other_index_run = np.zeros(len(n_data_aim))\n",
    "    other_index_fault = np.zeros(len(n_data_aim))\n",
    "    other_index_sev = np.zeros(len(n_data_aim))\n",
    "    other_index_win = np.zeros(len(n_data_aim))\n",
    "    other_index = np.zeros(len(n_data_aim))\n",
    "\n",
    "    # 计算每局的其他指标\n",
    "    for i in range(len(n_data_aim)):\n",
    "        other_index_run[i] = count_run(n_data_aim.iloc[i])\n",
    "        other_index_fault[i] = count_fault(n_data_aim.iloc[i])\n",
    "        other_index_sev[i] = count_sev(n_data_aim.iloc[i])\n",
    "        other_index_win[i] = count_win(n_data_aim.iloc[i])\n",
    "        other_index[i] = other_index_run[i] + other_index_fault[i] + other_index_sev[i]\n",
    "\n",
    "    # 计算最终指标\n",
    "    dst_index = other_index + AB_array\n",
    "\n",
    "    # 计算滑动窗口平均值\n",
    "    slide_dst_index = sliding_window_average(dst_index)\n",
    "\n",
    "    # 将指标列表添加到总列表中\n",
    "    all_list.append(slide_dst_index)\n",
    "\n",
    "    # 将比赛标签添加到总标签列表中\n",
    "    all_list_label.append(n_data_aim[\"set_victor\"].values[-1])\n",
    "\n",
    "    # 打印比赛信息\n",
    "    print(j, round(sum(slide_dst_index), 2), n_data_aim[\"set_victor\"].values[-1])\n"
   ]
  },
  {
   "cell_type": "code",
   "execution_count": 13,
   "id": "dbbe75bb",
   "metadata": {},
   "outputs": [],
   "source": [
    "def find_tran(my_list, num=10):\n",
    "    \"\"\"\n",
    "    在输入列表中寻找变化点\n",
    "\n",
    "    参数:\n",
    "    my_list (list): 输入的列表\n",
    "    num (int): 用于检测变化的窗口大小，默认为10\n",
    "\n",
    "    返回:\n",
    "    list: 包含变化点的列表，每个元素是一个包含索引和值的子列表\n",
    "    \"\"\"\n",
    "    dst_tran = []  # 存储变化点的列表\n",
    "    i = 0\n",
    "\n",
    "    while i < len(my_list) - num - 1:\n",
    "        if np.abs(my_list[i + num] - my_list[i]) >= 2.5:  # 如果窗口内的变化大于等于2.5\n",
    "            dst_tran.append([i, my_list[i]])  # 将变化点的索引和值添加到列表中\n",
    "            i += num\n",
    "        i += 1\n",
    "\n",
    "    return dst_tran\n"
   ]
  },
  {
   "cell_type": "code",
   "execution_count": 14,
   "id": "0f7eaf67",
   "metadata": {},
   "outputs": [
    {
     "name": "stdout",
     "output_type": "stream",
     "text": [
      "3\n"
     ]
    },
    {
     "data": {
      "image/png": "[encoded data removed]",
      "text/plain": [
       "<Figure size 640x480 with 1 Axes>"
      ]
     },
     "metadata": {},
     "output_type": "display_data"
    }
   ],
   "source": [
    "import numpy as np\n",
    "import matplotlib.pyplot as plt\n",
    "\n",
    "# 初始化数组\n",
    "cnt_m = np.zeros(len(slide_dst_index))\n",
    "cnt_m[0] = slide_dst_index[0]\n",
    "\n",
    "# 计算累积值\n",
    "for i in range(1, len(slide_dst_index)):\n",
    "    cnt_m[i] = slide_dst_index[i] + cnt_m[i - 1]\n",
    "\n",
    "# 寻找变化点\n",
    "tran_point = find_tran(cnt_m)\n",
    "\n",
    "# 打印变化点个数\n",
    "print(len(tran_point))\n",
    "\n",
    "# 绘制图形\n",
    "plt.plot(cnt_m)\n",
    "for i in tran_point:\n",
    "    plt.scatter(i[0], i[1])\n",
    "plt.show()\n"
   ]
  },
  {
   "cell_type": "code",
   "execution_count": null,
   "id": "7a5a10c6",
   "metadata": {},
   "outputs": [],
   "source": []
  },
  {
   "cell_type": "code",
   "execution_count": null,
   "id": "1f2c00ea",
   "metadata": {},
   "outputs": [],
   "source": []
  }
 ],
 "metadata": {
  "kernelspec": {
   "display_name": "Python 3 (ipykernel)",
   "language": "python",
   "name": "python3"
  },
  "language_info": {
   "codemirror_mode": {
    "name": "ipython",
    "version": 3
   },
   "file_extension": ".py",
   "mimetype": "text/x-python",
   "name": "python",
   "nbconvert_exporter": "python",
   "pygments_lexer": "ipython3",
   "version": "3.11.4"
  }
 },
 "nbformat": 4,
 "nbformat_minor": 5
}
